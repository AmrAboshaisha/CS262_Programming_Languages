{
  "nbformat": 4,
  "nbformat_minor": 0,
  "metadata": {
    "colab": {
      "name": "CS262_pset1.ipynb",
      "provenance": [],
      "collapsed_sections": [],
      "authorship_tag": "ABX9TyOgBRAPJdkQSsQ2Le6xCAMv",
      "include_colab_link": true
    },
    "kernelspec": {
      "name": "python3",
      "display_name": "Python 3"
    },
    "language_info": {
      "name": "python"
    }
  },
  "cells": [
    {
      "cell_type": "markdown",
      "metadata": {
        "id": "view-in-github",
        "colab_type": "text"
      },
      "source": [
        "<a href=\"https://colab.research.google.com/github/AmrAboshaisha/CS262_Programming_Languages/blob/main/CS262_pset1.ipynb\" target=\"_parent\"><img src=\"https://colab.research.google.com/assets/colab-badge.svg\" alt=\"Open In Colab\"/></a>"
      ]
    },
    {
      "cell_type": "code",
      "execution_count": 2,
      "metadata": {
        "id": "IjJ1oQzAzVXc"
      },
      "outputs": [],
      "source": [
        "import re"
      ]
    },
    {
      "cell_type": "code",
      "source": [
        "# Title: Summing Numbers\n",
        "\n",
        "# Write a procedure called sumnums(). Your procedure must accept as input a\n",
        "# single string. Your procedure must output an integer equal to the sum of\n",
        "# all integer numbers (one or more digits in sequence) within that string.\n",
        "# If there are no decimal numbers in the input string, your procedure must\n",
        "# return the integer 0. The input string will not contain any negative integers.\n",
        "#\n",
        "# Example Input: \"hello 2 all of you 44\"\n",
        "# Example Output: 46\n",
        "#\n",
        "# Hint: int(\"44\") == 44\n",
        "\n",
        "import re\n",
        "\n",
        "def sumnums(sentence): \n",
        "# write your code here\n",
        "    nums = re.findall(r'[0-9]+',sentence)\n",
        "    # print(nums)\n",
        "    if len(nums) == 0:\n",
        "        return 0\n",
        "    else:\n",
        "        return sum([int(num) for num in nums])\n",
        "\n",
        "         \n",
        "\n",
        "# This problem includes an example test case to help you tell if you are on\n",
        "# the right track. You may want to make your own additional tests as well.\n",
        "\n",
        "test_case_input = \"\"\"The Act of Independence of Lithuania was signed \n",
        "on February 16, 1918, by 20 council members.\"\"\"\n",
        "\n",
        "test_case_output = 1954\n",
        "\n",
        "if sumnums(test_case_input) == test_case_output:\n",
        "  print (\"Test case passed.\")\n",
        "else:\n",
        "  print (\"Test case failed:\") \n",
        "  print (sumnums(test_case_input)) \n"
      ],
      "metadata": {
        "colab": {
          "base_uri": "https://localhost:8080/"
        },
        "id": "qDfqw_tv-6Kt",
        "outputId": "2a200d04-0e4a-40b2-caca-d727547df975"
      },
      "execution_count": 3,
      "outputs": [
        {
          "output_type": "stream",
          "name": "stdout",
          "text": [
            "Test case passed.\n"
          ]
        }
      ]
    },
    {
      "cell_type": "code",
      "source": [
        "# Singly-Hyphenated Words\n",
        "\n",
        "# We examined hyphenated words in a quiz in class. In this problem you\n",
        "# will get a chance to handle them correctly. \n",
        "# \n",
        "# Assign to the variable regexp a Python regular expression that matches \n",
        "# both words (with letters a-z) and also singly-hyphenated words. If you \n",
        "# use grouping, you must use (?: and ) as your regular expression\n",
        "# parentheses. \n",
        "#\n",
        "# Examples: \n",
        "#\n",
        "# regexp exactly matches \"astronomy\"  \n",
        "# regexp exactly matches \"near-infrared\"  \n",
        "# regexp exactly matches \"x-ray\"  \n",
        "# regexp does not exactly match \"-tricky\" \n",
        "# regexp does not exactly match \"tricky-\" \n",
        "# regexp does not exactly match \"large - scale\" \n",
        "# regexp does not exactly match \"gamma-ray-burst\" \n",
        "# regexp does not exactly match \"\" \n",
        "\n",
        "# Your regular expression only needs to handle lowercase strings.\n",
        "\n",
        "# In Python regular expressions, r\"A|B\" checks A first and then B - it \n",
        "# does not follow the maximal munch rule. Thus, you may want to check \n",
        "# for doubly-hyphenated words first and then non-hyphenated words.\n"
      ],
      "metadata": {
        "id": "reoD9IUq-6Ni"
      },
      "execution_count": 4,
      "outputs": []
    },
    {
      "cell_type": "code",
      "source": [
        "regexp = r\"(?:[a-z]+-[a-z]+)|[a-z]+\""
      ],
      "metadata": {
        "id": "XLRFrqEZ0ESW"
      },
      "execution_count": 5,
      "outputs": []
    },
    {
      "cell_type": "code",
      "source": [
        "\n",
        "test_case_input = \"\"\"the wide-field infrared survey explorer is a nasa\n",
        "infrared-wavelength space telescope in an earth-orbiting satellite which\n",
        "performed an all-sky astronomical survey. be careful of -tricky tricky-\n",
        "hyphens --- be precise.\"\"\"\n",
        "\n",
        "test_case_output = ['the', 'wide-field', 'infrared', 'survey', 'explorer',\n",
        "'is', 'a', 'nasa', 'infrared-wavelength', 'space', 'telescope', 'in', 'an',\n",
        "'earth-orbiting', 'satellite', 'which', 'performed', 'an', 'all-sky',\n",
        "'astronomical', 'survey', 'be', 'careful', 'of', 'tricky', 'tricky',\n",
        "'hyphens', 'be', 'precise']"
      ],
      "metadata": {
        "id": "I6eA-qBe0MxJ"
      },
      "execution_count": 6,
      "outputs": []
    },
    {
      "cell_type": "code",
      "source": [
        "if re.findall(regexp, test_case_input) == test_case_output:\n",
        "  print (\"Test case passed.\")\n",
        "else:\n",
        "  print (\"Test case failed:\") \n",
        "  print (re.findall(regexp, test_case_input))"
      ],
      "metadata": {
        "colab": {
          "base_uri": "https://localhost:8080/"
        },
        "id": "CQ_zq-8e5VTC",
        "outputId": "4b606ce8-df68-40cf-8954-7e7243c83048"
      },
      "execution_count": 7,
      "outputs": [
        {
          "output_type": "stream",
          "name": "stdout",
          "text": [
            "Test case passed.\n"
          ]
        }
      ]
    },
    {
      "cell_type": "code",
      "source": [
        "# Title: Simulating Non-Determinism\n",
        "\n",
        "# Each regular expression can be converted to an equivalent finite state\n",
        "# machine. This is how regular expressions are implemented in practice. \n",
        "# We saw how non-deterministic finite state machines can be converted to\n",
        "# deterministic ones (often of a different size). It is also possible to\n",
        "# simulate non-deterministic machines directly -- and we'll do that now!\n",
        "#\n",
        "# In a given state, a non-deterministic machine may have *multiple*\n",
        "# outgoing edges labeled with the *same* character. \n",
        "#\n",
        "# To handle this ambiguity, we say that a non-deterministic finite state\n",
        "# machine accepts a string if there exists *any* path through the finite\n",
        "# state machine that consumes exactly that string as input and ends in an\n",
        "# accepting state. \n",
        "#\n",
        "# Write a procedure nfsmsim that works just like the fsmsim we covered\n",
        "# together, but handles also multiple outgoing edges and ambiguity. Do not\n",
        "# consider epsilon transitions. \n",
        "# \n",
        "# Formally, your procedure takes four arguments: a string, a starting\n",
        "# state, the edges (encoded as a dictionary mapping), and a list of\n",
        "# accepting states. \n",
        "#\n",
        "# To encode this ambiguity, we will change \"edges\" so that each state-input\n",
        "# pair maps to a *list* of destination states. \n",
        "#\n",
        "# For example, the regular expression r\"a+|(?:ab+c)\" might be encoded like\n",
        "# this:\n",
        "edges = { (1, 'a') : [2, 3],\n",
        "          (2, 'a') : [2],\n",
        "          (3, 'b') : [4, 3],\n",
        "          (4, 'c') : [5] }\n",
        "accepting = [2, 5] \n",
        "# It accepts both \"aaa\" (visiting states 1 2 2 and finally 2) and \"abbc\"\n",
        "# (visting states 1 3 3 4 and finally 5). \n"
      ],
      "metadata": {
        "id": "Xn99CNQ1_EUj"
      },
      "execution_count": 8,
      "outputs": []
    },
    {
      "cell_type": "code",
      "source": [
        "def nfsmsim(string, current, edges, accepting): \n",
        "  # if string is empty (or we reached end of string), return whether we're in accepting state\n",
        "  #base case\n",
        "  if string == \"\": return current in accepting\n",
        "  else:\n",
        "    letter = string[0]\n",
        "    if (current,letter) in edges:\n",
        "      next_states = edges[(current,letter)]\n",
        "      remainder = string[1:]\n",
        "      for state in next_states:\n",
        "        # print(string, state)\n",
        "        if nfsmsim(remainder,state,edges,accepting):\n",
        "          return True\n",
        "    return False"
      ],
      "metadata": {
        "id": "wrb1V3S3BySy"
      },
      "execution_count": 9,
      "outputs": []
    },
    {
      "cell_type": "code",
      "source": [
        "# This problem includes some test cases to help you tell if you are on\n",
        "# the right track. You may want to make your own additional tests as well.\n",
        "\n",
        "print (\"Test case 1 passed: \" + str(nfsmsim(\"abc\", 1, edges, accepting) == True))\n",
        "print (\"Test case 2 passed: \" + str(nfsmsim(\"aaa\", 1, edges, accepting) == True))\n",
        "print (\"Test case 3 passed: \" + str(nfsmsim(\"abbbc\", 1, edges, accepting) == True)) \n",
        "print (\"Test case 4 passed: \" + str(nfsmsim(\"aabc\", 1, edges, accepting) == False))\n",
        "print (\"Test case 5 passed: \" + str(nfsmsim(\"\", 1, edges, accepting) == False))\n"
      ],
      "metadata": {
        "colab": {
          "base_uri": "https://localhost:8080/"
        },
        "id": "VfaErk8lBGq1",
        "outputId": "44af1b5d-d8f8-4336-d2aa-ac4c3412b5f5"
      },
      "execution_count": 10,
      "outputs": [
        {
          "output_type": "stream",
          "name": "stdout",
          "text": [
            "Test case 1 passed: True\n",
            "Test case 2 passed: True\n",
            "Test case 3 passed: True\n",
            "Test case 4 passed: True\n",
            "Test case 5 passed: True\n"
          ]
        }
      ]
    },
    {
      "cell_type": "code",
      "source": [
        "# Title: Reading Machine Minds\n",
        "\n",
        "# It can be difficult to predict what strings a finite state machine will\n",
        "# accept. A tricky finite state machine may not accept any! A finite state\n",
        "# machine that accepts no strings is said to be *empty*. \n",
        "# \n",
        "# In this homework problem you will determine if a finite state machine is\n",
        "# empty or not. If it is not empty, you will prove that by returning a\n",
        "# string that it accepts. \n",
        "#\n",
        "# Formally, you will write a procedure nfsmaccepts() that takes four\n",
        "# arguments corresponding to a non-derministic finite state machine:\n",
        "#   the start (or current) state\n",
        "#   the edges (encoded as a mapping)\n",
        "#   the list of accepting states\n",
        "#   a list of states already visited (starts empty) \n",
        "#\n",
        "# If the finite state machine accepts any string, your procedure must\n",
        "# return one such string (your choice!). Otherwise, if the finite state\n",
        "# machine is empty, your procedure must return None (the value None, not\n",
        "# the string \"None\"). \n",
        "#\n",
        "# For example, this non-deterministic machine ...\n",
        "edges = { (1, 'a') : [2, 3],\n",
        "          (2, 'a') : [2],\n",
        "          (3, 'b') : [4, 2],\n",
        "          (4, 'c') : [5] }\n",
        "accepting = [5] \n",
        "# ... accepts exactly one string: \"abc\". By contrast, this\n",
        "# non-deterministic machine: \n",
        "edges2 = { (1, 'a') : [1],\n",
        "           (2, 'a') : [2] }\n",
        "accepting2 = [2] \n",
        "# ... accepts no strings (if you look closely, you'll see that you cannot\n",
        "# actually reach state 2 when starting in state 1). \n",
        "\n",
        "# Hint #1: This problem is trickier than it looks. If you do not keep track\n",
        "# of where you have been, your procedure may loop forever on the second\n",
        "# example. Before you make a recursive call, add the current state to the\n",
        "# list of visited states (and be sure to check the list of visited states\n",
        "# elsewhere). \n",
        "#\n",
        "# Hint #2: (Base Case) If the current state is accepting, you can return\n",
        "# \"\" as an accepting string.  \n",
        "# \n",
        "# Hint #3: (Recursion) If you have an outgoing edge labeled \"a\" that\n",
        "# goes to a state that accepts on the string \"bc\" (i.e., the recursive call\n",
        "# returns \"bc\"), then you can return \"abc\". \n",
        "#\n",
        "# Hint #4: You may want to iterate over all of the edges and only consider\n",
        "# those relevant to your current state. \"for edge in edges\" will iterate\n",
        "# over all of the keys in the mapping (i.e., over all of the (state,letter)\n",
        "# pairs) -- you'll have to write \"edges[edge]\" to get the destination list. \n"
      ],
      "metadata": {
        "id": "Y_se1f4G7I6A"
      },
      "execution_count": 11,
      "outputs": []
    },
    {
      "cell_type": "code",
      "source": [
        "def nfsmaccepts(current,edges,accepting,visited):\n",
        "  # print(visited)\n",
        "  if current in visited: return None #if we're currently somewhere we visited before, then we're stuck\n",
        "  elif current in accepting: return \"\"\n",
        "  else:\n",
        "    #add current state to visited\n",
        "    visited.append(current)\n",
        "    for edge in edges:\n",
        "      if current in edge:\n",
        "        for next in edges[edge]:\n",
        "          foo = nfsmaccepts(next,edges,accepting,visited)\n",
        "          if foo != None:\n",
        "            return edge[1]+foo\n",
        "    return None"
      ],
      "metadata": {
        "id": "I_gSsZN-zL90"
      },
      "execution_count": 51,
      "outputs": []
    },
    {
      "cell_type": "code",
      "source": [
        "# This problem includes some test cases to help you tell if you are on\n",
        "# the right track. You may want to make your own additional tests as well.\n",
        "print (\"Test 1: \" + str(nfsmaccepts(1, edges, accepting, []) == \"abc\")) \n",
        "print (\"Test 2: \" + str(nfsmaccepts(1, edges, [4], []) == \"ab\")) \n",
        "print (\"Test 3: \" + str(nfsmaccepts(1, edges2, accepting2, []) == None)) \n",
        "print (\"Test 4: \" + str(nfsmaccepts(1, edges2, [1], []) == \"\"))"
      ],
      "metadata": {
        "colab": {
          "base_uri": "https://localhost:8080/"
        },
        "id": "kXUEuhXBOMV0",
        "outputId": "31aadc0a-4700-49a9-f080-47bffb1fa5a2"
      },
      "execution_count": 52,
      "outputs": [
        {
          "output_type": "stream",
          "name": "stdout",
          "text": [
            "Test 1: True\n",
            "Test 2: True\n",
            "Test 3: True\n",
            "Test 4: True\n"
          ]
        }
      ]
    }
  ]
}